{
 "cells": [
  {
   "cell_type": "code",
   "execution_count": null,
   "outputs": [],
   "source": [
    "# Celem badania jest wskazanie związku pomiędzy charakterystykami EKG/EDA, a akcjami wykonywanymi w grach."
   ],
   "metadata": {
    "collapsed": false
   }
  },
  {
   "cell_type": "code",
   "execution_count": null,
   "metadata": {
    "collapsed": true
   },
   "outputs": [],
   "source": [
    "# install biosignalsplux package\n",
    "!pip install biosignalsnotebooks\n",
    "# install also system libraries necessary for libmagic\n",
    "!apt-get install libmagic-dev\n",
    "# install also BioSPPy (we will use them at the end of the lab)\n",
    "!pip install biosppy\n",
    "# install biosppy and neurokit2 (will be used at the end of the notebook)\n",
    "!pip install biosppy neurokit2"
   ]
  },
  {
   "cell_type": "code",
   "execution_count": null,
   "outputs": [],
   "source": [
    "# necessary imports (as before)\n",
    "import numpy as np\n",
    "import pandas as pd\n",
    "from scipy import signal\n",
    "\n",
    "import biosignalsnotebooks as bsnb\n",
    "\n",
    "import bokeh\n",
    "from bokeh.plotting import figure, show\n",
    "bokeh.io.output_notebook()\n",
    "\n",
    "import pywt\n",
    "import copy\n",
    "import sklearn.mixture\n",
    "import scipy.stats\n",
    "import csv\n",
    "import matplotlib.pyplot as plt\n",
    "import pandas as pd"
   ],
   "metadata": {
    "collapsed": false
   }
  },
  {
   "cell_type": "code",
   "execution_count": null,
   "outputs": [],
   "source": [
    "data = pd.read_csv(\"SUB119-BioSigs.csv\")\n",
    "header = data.columns.tolist()\n",
    "print(data)\n",
    "raw_ecg = data['ECG']\n",
    "raw_eda = data['EDA']\n",
    "sr = 1000\n",
    "time = np.linspace(start=0, stop=raw_ecg.shape[0]/sr, num=raw_ecg.shape[0])\n",
    "print(f\"Header:\\n{str(header)}\\nData:\\n{str(data)}\")"
   ],
   "metadata": {
    "collapsed": false
   }
  },
  {
   "cell_type": "code",
   "execution_count": null,
   "outputs": [],
   "source": [
    "p = figure(title='ECG', x_axis_label='Time [s]', y_axis_label='Value [mV]', plot_width=1000,\n",
    "    plot_height=200)\n",
    "p.line(time, raw_ecg, legend_label='ECG', line_color='blue')\n",
    "\n",
    "\n",
    "g = figure(title='EDA', x_axis_label='Time [s]', y_axis_label='Value [µS]', plot_width=1000,\n",
    "    plot_height=200)\n",
    "g.line(time, raw_eda, legend_label='EDA', line_color='green')\n",
    "show(p)\n",
    "show(g)"
   ],
   "metadata": {
    "collapsed": false
   }
  },
  {
   "cell_type": "code",
   "execution_count": null,
   "outputs": [],
   "source": [
    "\n",
    "# This is a sumplementary function for Pan-Tompkins plots\n",
    "def plot_pantompkins(series1, name1, series2, name2, peaks=False):\n",
    "  colors = bokeh.palettes.brewer['Paired'][3]\n",
    "  bf = bokeh.plotting.figure(x_axis_label='Time (s)', y_axis_label='ECG (mV)', plot_width=800, plot_height=250)\n",
    "  bf.line(time, series1, alpha=0.8, line_width=2, color=colors[0], legend_label=name1)\n",
    "  if peaks:\n",
    "    bf.circle(time, series2, alpha=0.8, size=10, color='green', legend_label=name2)\n",
    "  else:\n",
    "    bf.line(time, series2, alpha=0.8, line_width=2, color='green', legend_label=name2)\n",
    "  bf.legend.click_policy=\"hide\"\n",
    "  bf.x_range = bokeh.models.Range1d(10, 20)\n",
    "  bokeh.plotting.show(bf)"
   ],
   "metadata": {
    "collapsed": false
   }
  },
  {
   "cell_type": "code",
   "execution_count": null,
   "outputs": [],
   "source": [
    "# Step 1: Band-pass filtering (5-15Hz) to remove noise\n",
    "\n",
    "from scipy.signal import firwin, lfilter\n",
    "\n",
    "# Define the filter parameters\n",
    "low_freq = 5  # Lower cutoff frequency in Hz\n",
    "high_freq = 15  # Higher cutoff frequency in Hz\n",
    "filter_order = 4  # Filter order\n",
    "\n",
    "# Design the band-pass filter using firwin\n",
    "nyquist_freq = 0.5 * sr  # Nyquist frequency\n",
    "cutoff_freqs = [low_freq, high_freq]\n",
    "normalized_cutoffs = [freq / nyquist_freq for freq in cutoff_freqs]\n",
    "filter_coeffs = firwin(filter_order + 1, normalized_cutoffs, pass_zero=False)\n",
    "\n",
    "# Apply the band-pass filter to the converted ECG signal\n",
    "filtered_ecg = lfilter(filter_coeffs, 1.0, raw_ecg)\n",
    "\n",
    "# We will plot each step to see what we have done\n",
    "# You can click on the legend to on/off the specific signal\n",
    "plot_pantompkins(raw_ecg, \"ECG signal\", filtered_ecg, \"Filtered ECG\")"
   ],
   "metadata": {
    "collapsed": false
   }
  },
  {
   "cell_type": "code",
   "execution_count": null,
   "outputs": [],
   "source": [
    "differentiated_ecg = np.ediff1d(filtered_ecg)\n",
    "plot_pantompkins(filtered_ecg, \"Filtered ECG\", differentiated_ecg, \"Differentiated ECG\")"
   ],
   "metadata": {
    "collapsed": false
   }
  },
  {
   "cell_type": "code",
   "execution_count": null,
   "outputs": [],
   "source": [
    "# Po różniczkowaniu zauważyliśmy, że wartości pików są odwrócone. Oznacza to tyle, że podczas pomiaru elektroda dodadnia została zamieniona z ujemną. W celu jasnej analizy od tego momentu sygnał zostanie odwrócony."
   ],
   "metadata": {
    "collapsed": false
   }
  },
  {
   "cell_type": "code",
   "execution_count": null,
   "outputs": [],
   "source": [
    "squared_ecg = flipped_ecg ** 2\n",
    "plot_pantompkins(flipped_ecg, \"Differentiated ECG\", squared_ecg, \"Squared ECG\")"
   ],
   "metadata": {
    "collapsed": false
   }
  },
  {
   "cell_type": "code",
   "execution_count": null,
   "outputs": [],
   "source": [
    "window_size = int(0.15 * sr)  # Use 0.15 seconds as the window size (adjust as needed)\n",
    "integration_window = np.ones(window_size)\n",
    "integrated_ecg = np.convolve(squared_ecg, integration_window, mode='same')\n",
    "plot_pantompkins(squared_ecg, \"Squared ECG\", integrated_ecg, \"Integrated ECG\")"
   ],
   "metadata": {
    "collapsed": false
   }
  },
  {
   "cell_type": "code",
   "execution_count": null,
   "outputs": [],
   "source": [
    "peaks_found = np.empty(len(raw_ecg))\n",
    "peaks_found[:] = np.nan\n",
    "threshold = 30\n",
    "\n",
    "for x in range(1, len(integrated_ecg)-1):\n",
    "    # Check if two neighbors have lower values than the central sample in integrated_ecg\n",
    "    if integrated_ecg[x] > integrated_ecg[x-1] and integrated_ecg[x] > integrated_ecg[x+1]:\n",
    "        # Check if the corresponding sample in converted_ecg is above the threshold\n",
    "        if raw_ecg[x] > threshold:\n",
    "            # We have found a peak!\n",
    "            peaks_found[x] = raw_ecg[x]\n",
    "plot_pantompkins(raw_ecg, \"ECG signal\", peaks_found, \"Peaks found\", peaks=True)"
   ],
   "metadata": {
    "collapsed": false
   }
  },
  {
   "cell_type": "code",
   "execution_count": null,
   "outputs": [],
   "source": [
    "# Tachogram\n",
    "# The determination of peaks is just the beginning. Then, for each adjacent pair of R peaks, we can calculate the distance in time between them. Such a plot is called tachogram.\n",
    "\n",
    "# It is an interesting plot, on which we can do further analysis (known as HRV analysis).\n"
   ],
   "metadata": {
    "collapsed": false
   }
  },
  {
   "cell_type": "code",
   "execution_count": null,
   "outputs": [],
   "source": [
    "peak_times = np.array(time)[~np.isnan(peaks_found)]\n",
    "print(peak_times)"
   ],
   "metadata": {
    "collapsed": false
   }
  },
  {
   "cell_type": "code",
   "execution_count": null,
   "outputs": [],
   "source": [
    "tach_values = np.diff(peak_times)\n",
    "tach_times = peak_times[1:]\n",
    "\n",
    "print(tach_values)\n",
    "print(tach_times)"
   ],
   "metadata": {
    "collapsed": false
   }
  },
  {
   "cell_type": "code",
   "execution_count": null,
   "outputs": [],
   "source": [
    "# Plot the tachogram\n",
    "bt = bokeh.plotting.figure(x_axis_label='Time (s)', y_axis_label='Cardiac Cycle (s)', plot_width=800, plot_height=250)\n",
    "bt.line(tach_times, tach_values, alpha=0.8, line_width=2, color='blue')\n",
    "bokeh.plotting.show(bt)"
   ],
   "metadata": {
    "collapsed": false
   }
  },
  {
   "cell_type": "code",
   "execution_count": null,
   "outputs": [],
   "source": [
    "tach_values_bsnb, tach_times_bsnb = bsnb.tachogram(raw_ecg, sr, signal=True, out_seconds=True)\n",
    "bf = bokeh.plotting.figure(x_axis_label='Time (s)',\n",
    "                           y_axis_label='Cardiac Cycle (s)',\n",
    "                           plot_width=800,\n",
    "                           plot_height=250)\n",
    "bf.line(tach_times, tach_values, legend_label='Your tachogram')\n",
    "bf.line(tach_times_bsnb, tach_values_bsnb, legend_label='bsnb.tachogram', color='red')\n",
    "bokeh.plotting.show(bf)"
   ],
   "metadata": {
    "collapsed": false
   }
  },
  {
   "cell_type": "code",
   "execution_count": null,
   "outputs": [],
   "source": [
    "# plot the data\n",
    "bf = bokeh.plotting.figure(x_axis_label='Time (s)', y_axis_label='Raw Data', plot_width=800, plot_height=250)\n",
    "bf.line(time, raw_ecg)\n",
    "bokeh.plotting.show(bf)\n",
    "# we do not need to convert values to perform HRV analysis; do you know why?\n",
    "tach_values, tach_times = bsnb.tachogram(raw_ecg, sr, signal=True, out_seconds=True)\n",
    "# let's plot the tachogram\n",
    "bf = bokeh.plotting.figure(x_axis_label='Time (s)', y_axis_label='Cardiac Cycle (s)', plot_width=800, plot_height=250)\n",
    "bf.line(tach_times, tach_values)\n",
    "bokeh.plotting.show(bf)"
   ],
   "metadata": {
    "collapsed": false
   }
  },
  {
   "cell_type": "code",
   "execution_count": null,
   "outputs": [],
   "source": [
    "bpm_values = 60 / np.array(tach_values)\n",
    "mean_hr = np.mean(bpm_values)\n",
    "# let's plot the BPM\n",
    "bf = bokeh.plotting.figure(x_axis_label='Time (s)', y_axis_label='BPM', plot_width=800, plot_height=250)\n",
    "bf.line(tach_times, bpm_values, legend_label=\"Heart Rate\")\n",
    "bf.line(tach_times, [mean_hr] * len(tach_times), legend_label=\"Mean HR\")\n",
    "bokeh.plotting.show(bf)"
   ],
   "metadata": {
    "collapsed": false
   }
  },
  {
   "cell_type": "code",
   "execution_count": null,
   "outputs": [],
   "source": [
    "# Read the CSV file into a DataFrame\n",
    "procedure_df = pd.read_csv('SUB119-Procedure.csv', delimiter=';')\n",
    "print(procedure_df)\n",
    "# Filter out rows containing \"BITalino error\" in the EVENT column\n",
    "filtered_df = procedure_df[~procedure_df['EVENT'].str.contains('BITalino error', na=False)]\n",
    "\n",
    "# Save the filtered DataFrame to a new CSV file\n",
    "filtered_df.to_csv('filtered_file.csv', index=False)"
   ],
   "metadata": {
    "collapsed": false
   }
  },
  {
   "cell_type": "code",
   "execution_count": null,
   "outputs": [],
   "source": [
    "\n",
    "\n",
    "timestamps = []\n",
    "events = []\n",
    "\n",
    "with open('filtered_file.csv', 'r') as file:\n",
    "    csv_reader = csv.reader(file, delimiter=',')\n",
    "    next(csv_reader)  # Skip header row\n",
    "    for row in csv_reader:\n",
    "        timestamp = float(row[0])\n",
    "        event = row[8]\n",
    "        if event:\n",
    "            timestamps.append(timestamp)\n",
    "            events.append(event)\n",
    "\n",
    "# Plotting\n",
    "plt.plot(timestamps, range(len(events)), 'bo')\n",
    "plt.yticks(range(len(events)), events)\n",
    "plt.xlabel('Timestamp')\n",
    "plt.ylabel('Event')\n",
    "plt.title('Event Timeline')\n",
    "plt.show()"
   ],
   "metadata": {
    "collapsed": false
   }
  },
  {
   "cell_type": "code",
   "execution_count": null,
   "outputs": [],
   "source": [
    "df = pd.merge(data, procedure_df, on='TIMESTAMP')\n",
    "print(df)"
   ],
   "metadata": {
    "collapsed": false
   }
  }
 ],
 "metadata": {
  "kernelspec": {
   "display_name": "Python 3",
   "language": "python",
   "name": "python3"
  },
  "language_info": {
   "codemirror_mode": {
    "name": "ipython",
    "version": 2
   },
   "file_extension": ".py",
   "mimetype": "text/x-python",
   "name": "python",
   "nbconvert_exporter": "python",
   "pygments_lexer": "ipython2",
   "version": "2.7.6"
  }
 },
 "nbformat": 4,
 "nbformat_minor": 0
}
